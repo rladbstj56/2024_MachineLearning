{
  "cells": [
    {
      "cell_type": "markdown",
      "metadata": {
        "id": "Lzk7iX_CodX6",
        "tags": []
      },
      "source": [
        "# <img align=\"left\" src=\"https://drive.google.com/uc?export=view&id=1T6bYCcaBNiAY4ozMaSrSVX0jQqKkzrCn\" width=\"40px;\"> Practice lab: Collaborative Filtering Recommender Systems\n",
        "\n",
        "In this exercise, you will implement collaborative filtering to build a recommender system for movies.\n",
        "\n",
        "# <img align=\"left\" src=\"https://drive.google.com/uc?export=view&id=1FX91H68-JFxk9ze7UlIhbKGgzBqOEK88\" width=\"40px;\"> Outline\n",
        "- [ 1 - Notation](#1)\n",
        "- [ 2 - Recommender Systems](#2)\n",
        "- [ 3 - Movie ratings dataset](#3)\n",
        "- [ 4 - Collaborative filtering learning algorithm](#4)\n",
        "  - [ 4.1 Collaborative filtering cost function](#4.1)\n",
        "    - [ Exercise 1](#ex01)\n",
        "- [ 5 - Learning movie recommendations](#5)\n",
        "- [ 6 - Recommendations](#6)\n",
        "- [ 7 - Congratulations!](#7)\n",
        "\n",
        "\n"
      ]
    },
    {
      "cell_type": "markdown",
      "metadata": {
        "id": "Q2D1S8Mn-hhA"
      },
      "source": [
        "_**NOTE:** To prevent errors from the autograder, you are not allowed to edit or delete non-graded cells in this lab. Please also refrain from adding any new cells.\n",
        "**Once you have passed this assignment** and want to experiment with any of the non-graded code, you may follow the instructions at the bottom of this notebook._"
      ]
    },
    {
      "cell_type": "markdown",
      "metadata": {
        "id": "nkdMn4cC-hhB"
      },
      "source": [
        "##  Packages <img align=\"left\" src=\"https://drive.google.com/uc?export=view&id=1QAT5qvMAs3dz2Yk3pZmCTZoPDRQo0j5g\" width=\"40px;\">\n",
        "We will use the now familiar NumPy and Tensorflow Packages."
      ]
    },
    {
      "cell_type": "code",
      "execution_count": 2,
      "metadata": {
        "deletable": false,
        "editable": false,
        "id": "Tw71-w9G-hhB"
      },
      "outputs": [],
      "source": [
        "import numpy as np\n",
        "import tensorflow as tf\n",
        "from tensorflow import keras\n",
        "from recsys_utils import *"
      ]
    },
    {
      "cell_type": "markdown",
      "metadata": {
        "id": "mE67a0b_-hhB"
      },
      "source": [
        "<a name=\"1\"></a>\n",
        "## 1 - Notation\n"
      ]
    },
    {
      "cell_type": "markdown",
      "metadata": {
        "id": "QkHLjo_W-hhB"
      },
      "source": [
        "|General <br />  Notation  | Description| Python (if any) |\n",
        "|:-------------|:------------------------------------------------------------||\n",
        "| $r(i,j)$     | scalar; = 1  if user j rated movie i  = 0  otherwise             ||\n",
        "| $y(i,j)$     | scalar; = rating given by user j on movie  i    (if r(i,j) = 1 is defined) ||\n",
        "|$\\mathbf{w}^{(j)}$ | vector; parameters for user j ||\n",
        "|$b^{(j)}$     |  scalar; parameter for user j ||\n",
        "| $\\mathbf{x}^{(i)}$ |   vector; feature ratings for movie i        ||     \n",
        "| $n_u$        | number of users |num_users|\n",
        "| $n_m$        | number of movies | num_movies |\n",
        "| $n$          | number of features | num_features                    |\n",
        "| $\\mathbf{X}$ |  matrix of vectors $\\mathbf{x}^{(i)}$         | X |\n",
        "| $\\mathbf{W}$ |  matrix of vectors $\\mathbf{w}^{(j)}$         | W |\n",
        "| $\\mathbf{b}$ |  vector of bias parameters $b^{(j)}$ | b |\n",
        "| $\\mathbf{R}$ | matrix of elements $r(i,j)$                    | R |\n",
        "\n"
      ]
    },
    {
      "cell_type": "markdown",
      "metadata": {
        "tags": [],
        "id": "9y-VCSSD-hhB"
      },
      "source": [
        "<a name=\"2\"></a>\n",
        "## 2 - Recommender Systems <img align=\"left\" src=\"https://drive.google.com/uc?export=view&id=1TzLIUpDSg18XdBHb0nJFJBjevLeMePGP\" width=\"40px;\">\n",
        "In this lab, you will implement the collaborative filtering learning algorithm and apply it to a dataset of movie ratings.\n",
        "The goal of a collaborative filtering recommender system is to generate two vectors: For each user, a 'parameter vector' that embodies the movie tastes of a user. For each movie, a feature vector of the same size which embodies some description of the movie. The dot product of the two vectors plus the bias term should produce an estimate of the rating the user might give to that movie.\n",
        "\n",
        "The diagram below details how these vectors are learned."
      ]
    },
    {
      "cell_type": "markdown",
      "metadata": {
        "id": "RnEIlUUL-hhB"
      },
      "source": [
        "<figure>\n",
        "   <img src=\"https://drive.google.com/uc?export=view&id=1fgI83HsB30P_L-CA4FjpJvZpYa_hMHrM\" width=\"740px;\">\n",
        "</figure>"
      ]
    },
    {
      "cell_type": "markdown",
      "metadata": {
        "id": "Ppn7FVi2-hhC"
      },
      "source": [
        "Existing ratings are provided in matrix form as shown. $Y$ contains ratings; 0.5 to 5 inclusive in 0.5 steps. 0 if the movie has not been rated. $R$ has a 1 where movies have been rated. Movies are in rows, users in columns. Each user has a parameter vector $w^{user}$ and bias. Each movie has a feature vector $x^{movie}$. These vectors are simultaneously learned by using the existing user/movie ratings as training data. One training example is shown above: $\\mathbf{w}^{(1)} \\cdot \\mathbf{x}^{(1)} + b^{(1)} = 4$. It is worth noting that the feature vector $x^{movie}$ must satisfy all the users while the user vector $w^{user}$ must satisfy all the movies. This is the source of the name of this approach - all the users collaborate to generate the rating set."
      ]
    },
    {
      "cell_type": "markdown",
      "metadata": {
        "id": "RAq-ZzaE-hhC"
      },
      "source": [
        "<figure>\n",
        "   <img src=\"https://drive.google.com/uc?export=view&id=1mzJWJvEkF1Qoom-8ZKW5VbHOpFK9Kw8c\" width=\"640px\">\n",
        "</figure>"
      ]
    },
    {
      "cell_type": "markdown",
      "metadata": {
        "id": "lFJTUhNT-hhC"
      },
      "source": [
        "Once the feature vectors and parameters are learned, they can be used to predict how a user might rate an unrated movie. This is shown in the diagram above. The equation is an example of predicting a rating for user one on movie zero."
      ]
    },
    {
      "cell_type": "markdown",
      "metadata": {
        "id": "j9mBNo8g-hhC"
      },
      "source": [
        "\n",
        "In this exercise, you will implement the function `cofiCostFunc` that computes the collaborative filtering\n",
        "objective function. After implementing the objective function, you will use a TensorFlow custom training loop to learn the parameters for collaborative filtering. The first step is to detail the data set and data structures that will be used in the lab."
      ]
    },
    {
      "cell_type": "markdown",
      "metadata": {
        "id": "6-09Hto6odYD"
      },
      "source": [
        "<a name=\"3\"></a>\n",
        "## 3 - Movie ratings dataset <img align=\"left\" src=\"https://drive.google.com/uc?export=view&id=1TzLIUpDSg18XdBHb0nJFJBjevLeMePGP\" width=\"40px;\">\n",
        "The data set is derived from the [MovieLens \"ml-latest-small\"](https://grouplens.org/datasets/movielens/latest/) dataset.   \n",
        "[F. Maxwell Harper and Joseph A. Konstan. 2015. The MovieLens Datasets: History and Context. ACM Transactions on Interactive Intelligent Systems (TiiS) 5, 4: 19:1–19:19. <https://doi.org/10.1145/2827872>]\n",
        "\n",
        "The original dataset has  9000 movies rated by 600 users. The dataset has been reduced in size to focus on movies from the years since 2000. This dataset consists of ratings on a scale of 0.5 to 5 in 0.5 step increments. The reduced dataset has $n_u = 443$ users, and $n_m= 4778$ movies.\n",
        "\n",
        "Below, you will load the movie dataset into the variables $Y$ and $R$.\n",
        "\n",
        "The matrix $Y$ (a  $n_m \\times n_u$ matrix) stores the ratings $y^{(i,j)}$. The matrix $R$ is an binary-valued indicator matrix, where $R(i,j) = 1$ if user $j$ gave a rating to movie $i$, and $R(i,j)=0$ otherwise.\n",
        "\n",
        "Throughout this part of the exercise, you will also be working with the\n",
        "matrices, $\\mathbf{X}$, $\\mathbf{W}$ and $\\mathbf{b}$:\n",
        "\n",
        "$$\\mathbf{X} =\n",
        "\\begin{bmatrix}\n",
        "--- (\\mathbf{x}^{(0)})^T --- \\\\\n",
        "--- (\\mathbf{x}^{(1)})^T --- \\\\\n",
        "\\vdots \\\\\n",
        "--- (\\mathbf{x}^{(n_m-1)})^T --- \\\\\n",
        "\\end{bmatrix} , \\quad\n",
        "\\mathbf{W} =\n",
        "\\begin{bmatrix}\n",
        "--- (\\mathbf{w}^{(0)})^T --- \\\\\n",
        "--- (\\mathbf{w}^{(1)})^T --- \\\\\n",
        "\\vdots \\\\\n",
        "--- (\\mathbf{w}^{(n_u-1)})^T --- \\\\\n",
        "\\end{bmatrix},\\quad\n",
        "\\mathbf{ b} =\n",
        "\\begin{bmatrix}\n",
        " b^{(0)}  \\\\\n",
        " b^{(1)} \\\\\n",
        "\\vdots \\\\\n",
        "b^{(n_u-1)} \\\\\n",
        "\\end{bmatrix}\\quad\n",
        "$$\n",
        "\n",
        "The $i$-th row of $\\mathbf{X}$ corresponds to the\n",
        "feature vector $x^{(i)}$ for the $i$-th movie, and the $j$-th row of\n",
        "$\\mathbf{W}$ corresponds to one parameter vector $\\mathbf{w}^{(j)}$, for the\n",
        "$j$-th user. Both $x^{(i)}$ and $\\mathbf{w}^{(j)}$ are $n$-dimensional\n",
        "vectors. For the purposes of this exercise, you will use $n=10$, and\n",
        "therefore, $\\mathbf{x}^{(i)}$ and $\\mathbf{w}^{(j)}$ have 10 elements.\n",
        "Correspondingly, $\\mathbf{X}$ is a\n",
        "$n_m \\times 10$ matrix and $\\mathbf{W}$ is a $n_u \\times 10$ matrix.\n",
        "\n",
        "We will start by loading the movie ratings dataset to understand the structure of the data.\n",
        "We will load $Y$ and $R$ with the movie dataset.  \n",
        "We'll also load $\\mathbf{X}$, $\\mathbf{W}$, and $\\mathbf{b}$ with pre-computed values. These values will be learned later in the lab, but we'll use pre-computed values to develop the cost model."
      ]
    },
    {
      "cell_type": "code",
      "execution_count": 3,
      "metadata": {
        "deletable": false,
        "editable": false,
        "id": "9hFrhZvA-hhC",
        "outputId": "17d319e6-5d64-4bf8-c9ca-056944f2956e",
        "colab": {
          "base_uri": "https://localhost:8080/"
        }
      },
      "outputs": [
        {
          "output_type": "stream",
          "name": "stdout",
          "text": [
            "Y (4778, 443) R (4778, 443)\n",
            "X (4778, 10)\n",
            "W (443, 10)\n",
            "b (1, 443)\n",
            "num_features 10\n",
            "num_movies 4778\n",
            "num_users 443\n"
          ]
        }
      ],
      "source": [
        "#Load data\n",
        "X, W, b, num_movies, num_features, num_users = load_precalc_params_small()\n",
        "Y, R = load_ratings_small()\n",
        "\n",
        "print(\"Y\", Y.shape, \"R\", R.shape)\n",
        "print(\"X\", X.shape)\n",
        "print(\"W\", W.shape)\n",
        "print(\"b\", b.shape)\n",
        "print(\"num_features\", num_features)\n",
        "print(\"num_movies\",   num_movies)\n",
        "print(\"num_users\",    num_users)"
      ]
    },
    {
      "cell_type": "code",
      "execution_count": 4,
      "metadata": {
        "deletable": false,
        "editable": false,
        "id": "bxm1O_wbodYF",
        "outputId": "306cc87b-37a1-4731-8be8-3da52f86c487",
        "colab": {
          "base_uri": "https://localhost:8080/"
        }
      },
      "outputs": [
        {
          "output_type": "stream",
          "name": "stdout",
          "text": [
            "Average rating for movie 1 : 3.400 / 5\n"
          ]
        }
      ],
      "source": [
        "#  From the matrix, we can compute statistics like average rating.\n",
        "tsmean =  np.mean(Y[0, R[0, :].astype(bool)])\n",
        "print(f\"Average rating for movie 1 : {tsmean:0.3f} / 5\" )"
      ]
    },
    {
      "cell_type": "markdown",
      "metadata": {
        "id": "tbi5NBFt-hhD"
      },
      "source": [
        "<a name=\"4\"></a>\n",
        "## 4 - Collaborative filtering learning algorithm <img align=\"left\" src=\"https://drive.google.com/uc?export=view&id=14wLLYGJZh8bVB1-zERh-xPtjD0S1_za3\" width=\"40px;\" >\n",
        "\n",
        "Now, you will begin implementing the collaborative filtering learning\n",
        "algorithm. You will start by implementing the objective function.\n",
        "\n",
        "The collaborative filtering algorithm in the setting of movie\n",
        "recommendations considers a set of $n$-dimensional parameter vectors\n",
        "$\\mathbf{x}^{(0)},...,\\mathbf{x}^{(n_m-1)}$, $\\mathbf{w}^{(0)},...,\\mathbf{w}^{(n_u-1)}$ and $b^{(0)},...,b^{(n_u-1)}$, where the\n",
        "model predicts the rating for movie $i$ by user $j$ as\n",
        "$y^{(i,j)} = \\mathbf{w}^{(j)}\\cdot \\mathbf{x}^{(i)} + b^{(j)}$ . Given a dataset that consists of\n",
        "a set of ratings produced by some users on some movies, you wish to\n",
        "learn the parameter vectors $\\mathbf{x}^{(0)},...,\\mathbf{x}^{(n_m-1)},\n",
        "\\mathbf{w}^{(0)},...,\\mathbf{w}^{(n_u-1)}$  and $b^{(0)},...,b^{(n_u-1)}$ that produce the best fit (minimizes\n",
        "the squared error).\n",
        "\n",
        "You will complete the code in cofiCostFunc to compute the cost\n",
        "function for collaborative filtering."
      ]
    },
    {
      "cell_type": "markdown",
      "metadata": {
        "id": "bcqg0LJWodYH"
      },
      "source": [
        "\n",
        "<a name=\"4.1\"></a>\n",
        "### 4.1 Collaborative filtering cost function\n",
        "\n",
        "The collaborative filtering cost function is given by\n",
        "$$J({\\mathbf{x}^{(0)},...,\\mathbf{x}^{(n_m-1)},\\mathbf{w}^{(0)},b^{(0)},...,\\mathbf{w}^{(n_u-1)},b^{(n_u-1)}})= \\left[ \\frac{1}{2}\\sum_{(i,j):r(i,j)=1}(\\mathbf{w}^{(j)} \\cdot \\mathbf{x}^{(i)} + b^{(j)} - y^{(i,j)})^2 \\right]\n",
        "+ \\underbrace{\\left[\n",
        "\\frac{\\lambda}{2}\n",
        "\\sum_{j=0}^{n_u-1}\\sum_{k=0}^{n-1}(\\mathbf{w}^{(j)}_k)^2\n",
        "+ \\frac{\\lambda}{2}\\sum_{i=0}^{n_m-1}\\sum_{k=0}^{n-1}(\\mathbf{x}_k^{(i)})^2\n",
        "\\right]}_{regularization}\n",
        "\\tag{1}$$\n",
        "The first summation in (1) is \"for all $i$, $j$ where $r(i,j)$ equals $1$\" and could be written:\n",
        "\n",
        "$$\n",
        "= \\left[ \\frac{1}{2}\\sum_{j=0}^{n_u-1} \\sum_{i=0}^{n_m-1}r(i,j)*(\\mathbf{w}^{(j)} \\cdot \\mathbf{x}^{(i)} + b^{(j)} - y^{(i,j)})^2 \\right]\n",
        "+\\text{regularization}\n",
        "$$\n",
        "\n",
        "You should now write cofiCostFunc (collaborative filtering cost function) to return this cost."
      ]
    },
    {
      "cell_type": "markdown",
      "metadata": {
        "id": "aoqowAMc-hhD"
      },
      "source": [
        "<a name=\"ex01\"></a>\n",
        "### Exercise 1\n",
        "\n",
        "**For loop Implementation:**   \n",
        "Start by implementing the cost function using for loops.\n",
        "Consider developing the cost function in two steps. First, develop the cost function without regularization. A test case that does not include regularization is provided below to test your implementation. Once that is working, add regularization and run the tests that include regularization.  Note that you should be accumulating the cost for user $j$ and movie $i$ only if $R(i,j) = 1$."
      ]
    },
    {
      "cell_type": "code",
      "execution_count": 11,
      "metadata": {
        "deletable": false,
        "id": "fvPHxOin-hhD"
      },
      "outputs": [],
      "source": [
        "# GRADED FUNCTION: cofi_cost_func\n",
        "# UNQ_C1\n",
        "\n",
        "def cofi_cost_func(X, W, b, Y, R, lambda_):\n",
        "    \"\"\"\n",
        "    Returns the cost for the content-based filtering\n",
        "    Args:\n",
        "      X (ndarray (num_movies,num_features)): matrix of item features\n",
        "      W (ndarray (num_users,num_features)) : matrix of user parameters\n",
        "      b (ndarray (1, num_users)            : vector of user parameters\n",
        "      Y (ndarray (num_movies,num_users)    : matrix of user ratings of movies\n",
        "      R (ndarray (num_movies,num_users)    : matrix, where R(i, j) = 1 if the i-th movies was rated by the j-th user\n",
        "      lambda_ (float): regularization parameter\n",
        "    Returns:\n",
        "      J (float) : Cost\n",
        "    \"\"\"\n",
        "    nm, nu = Y.shape\n",
        "    J = 0\n",
        "    ### START CODE HERE ###\n",
        "    for j in range(nu):\n",
        "        w = W[j,:]\n",
        "        b_j = b[0,j]\n",
        "        for i in range(nm):\n",
        "          x = X[i,:]\n",
        "          y = Y[i,j]\n",
        "          r = R[i,j]\n",
        "          J += np.square(r * (np.dot(w,x) + b_j - y ) )\n",
        "    ### END CODE HERE ###\n",
        "    J = J/2\n",
        "    J += (lambda_/2) * (np.sum(np.square(W)) + np.sum(np.square(X)))\n",
        "    return J"
      ]
    },
    {
      "cell_type": "markdown",
      "metadata": {
        "id": "fCG_JejN-hhD"
      },
      "source": [
        "<details>\n",
        "  <summary><font size=\"3\" color=\"darkgreen\"><b>Click for hints</b></font></summary>\n",
        "    You can structure the code in two for loops similar to the summation in (1).   \n",
        "    Implement the code without regularization first.   \n",
        "    Note that some of the elements in (1) are vectors. Use np.dot(). You can also use np.square().\n",
        "    Pay close attention to which elements are indexed by i and which are indexed by j. Don't forget to divide by two.\n",
        "    \n",
        "```python     \n",
        "    ### START CODE HERE ###  \n",
        "    for j in range(nu):\n",
        "        \n",
        "        \n",
        "        for i in range(nm):\n",
        "            \n",
        "            \n",
        "    ### END CODE HERE ###\n",
        "```    \n",
        "<details>\n",
        "    <summary><font size=\"2\" color=\"darkblue\"><b> Click for more hints</b></font></summary>\n",
        "        \n",
        "    Here is some more details. The code below pulls out each element from the matrix before using it.\n",
        "    One could also reference the matrix directly.  \n",
        "    This code does not contain regularization.\n",
        "    \n",
        "```python\n",
        "    nm,nu = Y.shape\n",
        "    J = 0\n",
        "    ### START CODE HERE ###  \n",
        "    for j in range(nu):\n",
        "        w = W[j,:]\n",
        "        b_j = b[0,j]\n",
        "        for i in range(nm):\n",
        "            x =\n",
        "            y =\n",
        "            r =\n",
        "            J +=\n",
        "    J = J/2\n",
        "    ### END CODE HERE ###\n",
        "\n",
        "```\n",
        "    \n",
        "<details>\n",
        "    <summary><font size=\"2\" color=\"darkblue\"><b>Last Resort (full non-regularized implementation)</b></font></summary>\n",
        "    \n",
        "```python\n",
        "    nm,nu = Y.shape\n",
        "    J = 0\n",
        "    ### START CODE HERE ###  \n",
        "    for j in range(nu):\n",
        "        w = W[j,:]\n",
        "        b_j = b[0,j]\n",
        "        for i in range(nm):\n",
        "            x = X[i,:]\n",
        "            y = Y[i,j]\n",
        "            r = R[i,j]\n",
        "            J += np.square(r * (np.dot(w,x) + b_j - y ) )\n",
        "    J = J/2\n",
        "    ### END CODE HERE ###\n",
        "```\n",
        "    \n",
        "<details>\n",
        "    <summary><font size=\"2\" color=\"darkblue\"><b>regularization</b></font></summary>\n",
        "     Regularization just squares each element of the W array and X array and them sums all the squared elements.\n",
        "     You can utilize np.square() and np.sum().\n",
        "\n",
        "<details>\n",
        "    <summary><font size=\"2\" color=\"darkblue\"><b>regularization details</b></font></summary>\n",
        "    \n",
        "```python\n",
        "    J += (lambda_/2) * (np.sum(np.square(W)) + np.sum(np.square(X)))\n",
        "```\n",
        "    \n",
        "</details>\n",
        "</details>\n",
        "</details>\n",
        "</details>\n",
        "\n",
        "    \n"
      ]
    },
    {
      "cell_type": "code",
      "execution_count": 12,
      "metadata": {
        "deletable": false,
        "editable": false,
        "id": "90u39Lio-hhE",
        "outputId": "3e0fbfc3-ad20-467d-95f1-52c55af0d964",
        "colab": {
          "base_uri": "https://localhost:8080/"
        }
      },
      "outputs": [
        {
          "output_type": "stream",
          "name": "stdout",
          "text": [
            "Cost: 13.67\n"
          ]
        }
      ],
      "source": [
        "# Reduce the data set size so that this runs faster\n",
        "num_users_r = 4\n",
        "num_movies_r = 5\n",
        "num_features_r = 3\n",
        "\n",
        "X_r = X[:num_movies_r, :num_features_r]\n",
        "W_r = W[:num_users_r,  :num_features_r]\n",
        "b_r = b[0, :num_users_r].reshape(1,-1)\n",
        "Y_r = Y[:num_movies_r, :num_users_r]\n",
        "R_r = R[:num_movies_r, :num_users_r]\n",
        "\n",
        "# Evaluate cost function\n",
        "J = cofi_cost_func(X_r, W_r, b_r, Y_r, R_r, 0);\n",
        "print(f\"Cost: {J:0.2f}\")"
      ]
    },
    {
      "cell_type": "markdown",
      "metadata": {
        "id": "xGznmQ91odYL"
      },
      "source": [
        "**Expected Output (lambda = 0)**:  \n",
        "$13.67$."
      ]
    },
    {
      "cell_type": "code",
      "execution_count": 14,
      "metadata": {
        "deletable": false,
        "editable": false,
        "id": "MlKccpBL-hhE",
        "outputId": "8b457f43-bae2-4196-f815-d69a7be7b79d",
        "colab": {
          "base_uri": "https://localhost:8080/"
        }
      },
      "outputs": [
        {
          "output_type": "stream",
          "name": "stdout",
          "text": [
            "Cost (with regularization): 28.09\n"
          ]
        }
      ],
      "source": [
        "# Evaluate cost function with regularization\n",
        "J = cofi_cost_func(X_r, W_r, b_r, Y_r, R_r, 1.5);\n",
        "print(f\"Cost (with regularization): {J:0.2f}\")"
      ]
    },
    {
      "cell_type": "markdown",
      "metadata": {
        "id": "1xbepzUUodYP"
      },
      "source": [
        "**Expected Output**:\n",
        "\n",
        "28.09"
      ]
    },
    {
      "cell_type": "code",
      "execution_count": 15,
      "metadata": {
        "deletable": false,
        "editable": false,
        "id": "Hx14EyEG-hhE",
        "outputId": "96c1750a-6a92-4974-88f2-cc435fa478de",
        "colab": {
          "base_uri": "https://localhost:8080/"
        }
      },
      "outputs": [
        {
          "output_type": "stream",
          "name": "stdout",
          "text": [
            "\u001b[92mAll tests passed!\n"
          ]
        }
      ],
      "source": [
        "# Public tests\n",
        "from public_tests import *\n",
        "test_cofi_cost_func(cofi_cost_func)"
      ]
    },
    {
      "cell_type": "markdown",
      "metadata": {
        "id": "Ila3AFMS-hhE"
      },
      "source": [
        "**Vectorized Implementation**\n",
        "\n",
        "It is important to create a vectorized implementation to compute $J$, since it will later be called many times during optimization. The linear algebra utilized is not the focus of this series, so the implementation is provided. If you are an expert in linear algebra, feel free to create your version without referencing the code below.\n",
        "\n",
        "Run the code below and verify that it produces the same results as the non-vectorized version."
      ]
    },
    {
      "cell_type": "code",
      "execution_count": 16,
      "metadata": {
        "deletable": false,
        "editable": false,
        "id": "n8IrVJTT-hhE"
      },
      "outputs": [],
      "source": [
        "def cofi_cost_func_v(X, W, b, Y, R, lambda_):\n",
        "    \"\"\"\n",
        "    Returns the cost for the content-based filtering\n",
        "    Vectorized for speed. Uses tensorflow operations to be compatible with custom training loop.\n",
        "    Args:\n",
        "      X (ndarray (num_movies,num_features)): matrix of item features\n",
        "      W (ndarray (num_users,num_features)) : matrix of user parameters\n",
        "      b (ndarray (1, num_users)            : vector of user parameters\n",
        "      Y (ndarray (num_movies,num_users)    : matrix of user ratings of movies\n",
        "      R (ndarray (num_movies,num_users)    : matrix, where R(i, j) = 1 if the i-th movies was rated by the j-th user\n",
        "      lambda_ (float): regularization parameter\n",
        "    Returns:\n",
        "      J (float) : Cost\n",
        "    \"\"\"\n",
        "    j = (tf.linalg.matmul(X, tf.transpose(W)) + b - Y)*R\n",
        "    J = 0.5 * tf.reduce_sum(j**2) + (lambda_/2) * (tf.reduce_sum(X**2) + tf.reduce_sum(W**2))\n",
        "    return J"
      ]
    },
    {
      "cell_type": "code",
      "execution_count": 17,
      "metadata": {
        "deletable": false,
        "editable": false,
        "id": "zQ6P2qhq-hhE",
        "outputId": "ff8366ea-aa90-4e45-e6e0-33ed215417db",
        "colab": {
          "base_uri": "https://localhost:8080/"
        }
      },
      "outputs": [
        {
          "output_type": "stream",
          "name": "stdout",
          "text": [
            "Cost: 13.67\n",
            "Cost (with regularization): 28.09\n"
          ]
        }
      ],
      "source": [
        "# Evaluate cost function\n",
        "J = cofi_cost_func_v(X_r, W_r, b_r, Y_r, R_r, 0);\n",
        "print(f\"Cost: {J:0.2f}\")\n",
        "\n",
        "# Evaluate cost function with regularization\n",
        "J = cofi_cost_func_v(X_r, W_r, b_r, Y_r, R_r, 1.5);\n",
        "print(f\"Cost (with regularization): {J:0.2f}\")"
      ]
    },
    {
      "cell_type": "markdown",
      "metadata": {
        "id": "msgDFgaH-hhE"
      },
      "source": [
        "**Expected Output**:  \n",
        "Cost: 13.67  \n",
        "Cost (with regularization): 28.09"
      ]
    },
    {
      "cell_type": "markdown",
      "metadata": {
        "id": "ilaeM8yWodYR"
      },
      "source": [
        "<a name=\"5\"></a>\n",
        "## 5 - Learning movie recommendations <img align=\"left\" src=\"https://drive.google.com/uc?export=view&id=1KhP8zGyM5YbjZZJNmOD8LiF20691Ah-q\" width=\"40px;\">\n",
        "------------------------------\n",
        "\n",
        "After you have finished implementing the collaborative filtering cost\n",
        "function, you can start training your algorithm to make\n",
        "movie recommendations for yourself.\n",
        "\n",
        "In the cell below, you can enter your own movie choices. The algorithm will then make recommendations for you! We have filled out some values according to our preferences, but after you have things working with our choices, you should change this to match your tastes.\n",
        "A list of all movies in the dataset is in the file [movie list](data/small_movie_list.csv)."
      ]
    },
    {
      "cell_type": "code",
      "execution_count": 18,
      "metadata": {
        "deletable": false,
        "id": "WJO8Jr0UodYR",
        "outputId": "03d74298-d844-47d2-dc23-d78c1a1347e4",
        "colab": {
          "base_uri": "https://localhost:8080/"
        }
      },
      "outputs": [
        {
          "output_type": "stream",
          "name": "stdout",
          "text": [
            "\n",
            "New user ratings:\n",
            "\n",
            "Rated 5.0 for  Shrek (2001)\n",
            "Rated 5.0 for  Harry Potter and the Sorcerer's Stone (a.k.a. Harry Potter and the Philosopher's Stone) (2001)\n",
            "Rated 2.0 for  Amelie (Fabuleux destin d'Amélie Poulain, Le) (2001)\n",
            "Rated 5.0 for  Harry Potter and the Chamber of Secrets (2002)\n",
            "Rated 5.0 for  Pirates of the Caribbean: The Curse of the Black Pearl (2003)\n",
            "Rated 5.0 for  Lord of the Rings: The Return of the King, The (2003)\n",
            "Rated 3.0 for  Eternal Sunshine of the Spotless Mind (2004)\n",
            "Rated 5.0 for  Incredibles, The (2004)\n",
            "Rated 2.0 for  Persuasion (2007)\n",
            "Rated 5.0 for  Toy Story 3 (2010)\n",
            "Rated 3.0 for  Inception (2010)\n",
            "Rated 1.0 for  Louis Theroux: Law & Disorder (2008)\n",
            "Rated 1.0 for  Nothing to Declare (Rien à déclarer) (2010)\n"
          ]
        }
      ],
      "source": [
        "movieList, movieList_df = load_Movie_List_pd()\n",
        "\n",
        "my_ratings = np.zeros(num_movies)          #  Initialize my ratings\n",
        "\n",
        "# Check the file small_movie_list.csv for id of each movie in our dataset\n",
        "# For example, Toy Story 3 (2010) has ID 2700, so to rate it \"5\", you can set\n",
        "my_ratings[2700] = 5\n",
        "\n",
        "#Or suppose you did not enjoy Persuasion (2007), you can set\n",
        "my_ratings[2609] = 2;\n",
        "\n",
        "# We have selected a few movies we liked / did not like and the ratings we\n",
        "# gave are as follows:\n",
        "my_ratings[929]  = 5   # Lord of the Rings: The Return of the King, The\n",
        "my_ratings[246]  = 5   # Shrek (2001)\n",
        "my_ratings[2716] = 3   # Inception\n",
        "my_ratings[1150] = 5   # Incredibles, The (2004)\n",
        "my_ratings[382]  = 2   # Amelie (Fabuleux destin d'Amélie Poulain, Le)\n",
        "my_ratings[366]  = 5   # Harry Potter and the Sorcerer's Stone (a.k.a. Harry Potter and the Philosopher's Stone) (2001)\n",
        "my_ratings[622]  = 5   # Harry Potter and the Chamber of Secrets (2002)\n",
        "my_ratings[988]  = 3   # Eternal Sunshine of the Spotless Mind (2004)\n",
        "my_ratings[2925] = 1   # Louis Theroux: Law & Disorder (2008)\n",
        "my_ratings[2937] = 1   # Nothing to Declare (Rien à déclarer)\n",
        "my_ratings[793]  = 5   # Pirates of the Caribbean: The Curse of the Black Pearl (2003)\n",
        "my_rated = [i for i in range(len(my_ratings)) if my_ratings[i] > 0]\n",
        "\n",
        "print('\\nNew user ratings:\\n')\n",
        "for i in range(len(my_ratings)):\n",
        "    if my_ratings[i] > 0 :\n",
        "        print(f'Rated {my_ratings[i]} for  {movieList_df.loc[i,\"title\"]}');"
      ]
    },
    {
      "cell_type": "markdown",
      "metadata": {
        "id": "0vR1ZDpg-hhF"
      },
      "source": [
        "Now, let's add these reviews to $Y$ and $R$ and normalize the ratings."
      ]
    },
    {
      "cell_type": "code",
      "execution_count": 19,
      "metadata": {
        "deletable": false,
        "editable": false,
        "id": "KqKX2lDV-hhF"
      },
      "outputs": [],
      "source": [
        "# Reload ratings\n",
        "Y, R = load_ratings_small()\n",
        "\n",
        "# Add new user ratings to Y\n",
        "Y = np.c_[my_ratings, Y]\n",
        "\n",
        "# Add new user indicator matrix to R\n",
        "R = np.c_[(my_ratings != 0).astype(int), R]\n",
        "\n",
        "# Normalize the Dataset\n",
        "Ynorm, Ymean = normalizeRatings(Y, R)"
      ]
    },
    {
      "cell_type": "markdown",
      "metadata": {
        "id": "YPk93wWx-hhF"
      },
      "source": [
        "Let's prepare to train the model. Initialize the parameters and select the Adam optimizer."
      ]
    },
    {
      "cell_type": "code",
      "execution_count": 20,
      "metadata": {
        "deletable": false,
        "editable": false,
        "tags": [],
        "id": "lFWr4xIJ-hhF"
      },
      "outputs": [],
      "source": [
        "#  Useful Values\n",
        "num_movies, num_users = Y.shape\n",
        "num_features = 100\n",
        "\n",
        "# Set Initial Parameters (W, X), use tf.Variable to track these variables\n",
        "tf.random.set_seed(1234) # for consistent results\n",
        "W = tf.Variable(tf.random.normal((num_users,  num_features),dtype=tf.float64),  name='W')\n",
        "X = tf.Variable(tf.random.normal((num_movies, num_features),dtype=tf.float64),  name='X')\n",
        "b = tf.Variable(tf.random.normal((1,          num_users),   dtype=tf.float64),  name='b')\n",
        "\n",
        "# Instantiate an optimizer.\n",
        "optimizer = keras.optimizers.Adam(learning_rate=1e-1)"
      ]
    },
    {
      "cell_type": "markdown",
      "metadata": {
        "id": "8_I42oeH-hhF"
      },
      "source": [
        "Let's now train the collaborative filtering model. This will learn the parameters $\\mathbf{X}$, $\\mathbf{W}$, and $\\mathbf{b}$."
      ]
    },
    {
      "cell_type": "markdown",
      "metadata": {
        "id": "xsYZMWVc-hhF"
      },
      "source": [
        "The operations involved in learning $w$, $b$, and $x$ simultaneously do not fall into the typical 'layers' offered in the TensorFlow neural network package.  Consequently, the flow used in Course 2: Model, Compile(), Fit(), Predict(), are not directly applicable. Instead, we can use a custom training loop.\n",
        "\n",
        "Recall from earlier labs the steps of gradient descent.\n",
        "- repeat until convergence:\n",
        "    - compute forward pass\n",
        "    - compute the derivatives of the loss relative to parameters\n",
        "    - update the parameters using the learning rate and the computed derivatives\n",
        "    \n",
        "TensorFlow has the marvelous capability of calculating the derivatives for you. This is shown below. Within the `tf.GradientTape()` section, operations on Tensorflow Variables are tracked. When `tape.gradient()` is later called, it will return the gradient of the loss relative to the tracked variables. The gradients can then be applied to the parameters using an optimizer.\n",
        "This is a very brief introduction to a useful feature of TensorFlow and other machine learning frameworks. Further information can be found by investigating \"custom training loops\" within the framework of interest.\n",
        "    \n"
      ]
    },
    {
      "cell_type": "code",
      "execution_count": 22,
      "metadata": {
        "deletable": false,
        "editable": false,
        "id": "uh63Qd0j-hhF",
        "outputId": "48252d14-a6dc-41a1-8059-3579c26ef467",
        "colab": {
          "base_uri": "https://localhost:8080/"
        }
      },
      "outputs": [
        {
          "output_type": "stream",
          "name": "stdout",
          "text": [
            "Training loss at iteration 0: 2566.6\n",
            "Training loss at iteration 20: 2348.7\n",
            "Training loss at iteration 40: 2202.9\n",
            "Training loss at iteration 60: 2102.4\n",
            "Training loss at iteration 80: 2031.2\n",
            "Training loss at iteration 100: 1979.4\n",
            "Training loss at iteration 120: 1940.9\n",
            "Training loss at iteration 140: 1911.4\n",
            "Training loss at iteration 160: 1888.5\n",
            "Training loss at iteration 180: 1870.3\n"
          ]
        }
      ],
      "source": [
        "iterations = 200\n",
        "lambda_ = 1\n",
        "for iter in range(iterations):\n",
        "    # Use TensorFlow’s GradientTape\n",
        "    # to record the operations used to compute the cost\n",
        "    with tf.GradientTape() as tape:\n",
        "\n",
        "        # Compute the cost (forward pass included in cost)\n",
        "        cost_value = cofi_cost_func_v(X, W, b, Ynorm, R, lambda_)\n",
        "\n",
        "    # Use the gradient tape to automatically retrieve\n",
        "    # the gradients of the trainable variables with respect to the loss\n",
        "    grads = tape.gradient( cost_value, [X,W,b] )\n",
        "\n",
        "    # Run one step of gradient descent by updating\n",
        "    # the value of the variables to minimize the loss.\n",
        "    optimizer.apply_gradients( zip(grads, [X,W,b]) )\n",
        "\n",
        "    # Log periodically.\n",
        "    if iter % 20 == 0:\n",
        "        print(f\"Training loss at iteration {iter}: {cost_value:0.1f}\")"
      ]
    },
    {
      "cell_type": "markdown",
      "metadata": {
        "id": "SSzUL7eQodYS"
      },
      "source": [
        "<a name=\"6\"></a>\n",
        "## 6 - Recommendations\n",
        "Below, we compute the ratings for all the movies and users and display the movies that are recommended. These are based on the movies and ratings entered as `my_ratings[]` above. To predict the rating of movie $i$ for user $j$, you compute $\\mathbf{w}^{(j)} \\cdot \\mathbf{x}^{(i)} + b^{(j)}$. This can be computed for all ratings using matrix multiplication."
      ]
    },
    {
      "cell_type": "code",
      "execution_count": 23,
      "metadata": {
        "deletable": false,
        "editable": false,
        "id": "ns266wKtodYT",
        "outputId": "91ee902a-1fee-4c95-d1f3-32987bf6b99e",
        "colab": {
          "base_uri": "https://localhost:8080/"
        }
      },
      "outputs": [
        {
          "output_type": "stream",
          "name": "stdout",
          "text": [
            "Predicting rating 4.74 for movie Colourful (Karafuru) (2010)\n",
            "Predicting rating 4.58 for movie One I Love, The (2014)\n",
            "Predicting rating 4.58 for movie Laggies (2014)\n",
            "Predicting rating 4.58 for movie Delirium (2014)\n",
            "Predicting rating 4.55 for movie Into the Forest of Fireflies' Light (2011)\n",
            "Predicting rating 4.54 for movie Particle Fever (2013)\n",
            "Predicting rating 4.54 for movie Martin Lawrence Live: Runteldat (2002)\n",
            "Predicting rating 4.54 for movie Battle Royale 2: Requiem (Batoru rowaiaru II: Chinkonka) (2003)\n",
            "Predicting rating 4.54 for movie Into the Abyss (2011)\n",
            "Predicting rating 4.54 for movie Eichmann (2007)\n",
            "\n",
            "\n",
            "Original vs Predicted ratings:\n",
            "\n",
            "Original 5.0, Predicted 4.89 for Shrek (2001)\n",
            "Original 5.0, Predicted 4.86 for Harry Potter and the Sorcerer's Stone (a.k.a. Harry Potter and the Philosopher's Stone) (2001)\n",
            "Original 2.0, Predicted 2.18 for Amelie (Fabuleux destin d'Amélie Poulain, Le) (2001)\n",
            "Original 5.0, Predicted 4.85 for Harry Potter and the Chamber of Secrets (2002)\n",
            "Original 5.0, Predicted 4.85 for Pirates of the Caribbean: The Curse of the Black Pearl (2003)\n",
            "Original 5.0, Predicted 4.87 for Lord of the Rings: The Return of the King, The (2003)\n",
            "Original 3.0, Predicted 3.03 for Eternal Sunshine of the Spotless Mind (2004)\n",
            "Original 5.0, Predicted 4.89 for Incredibles, The (2004)\n",
            "Original 2.0, Predicted 2.14 for Persuasion (2007)\n",
            "Original 5.0, Predicted 4.77 for Toy Story 3 (2010)\n",
            "Original 3.0, Predicted 3.01 for Inception (2010)\n",
            "Original 1.0, Predicted 1.39 for Louis Theroux: Law & Disorder (2008)\n",
            "Original 1.0, Predicted 1.26 for Nothing to Declare (Rien à déclarer) (2010)\n"
          ]
        }
      ],
      "source": [
        "# Make a prediction using trained weights and biases\n",
        "p = np.matmul(X.numpy(), np.transpose(W.numpy())) + b.numpy()\n",
        "\n",
        "#restore the mean\n",
        "pm = p + Ymean\n",
        "\n",
        "my_predictions = pm[:,0]\n",
        "\n",
        "# sort predictions\n",
        "ix = tf.argsort(my_predictions, direction='DESCENDING')\n",
        "\n",
        "for i in range(17):\n",
        "    j = ix[i]\n",
        "    if j not in my_rated:\n",
        "        print(f'Predicting rating {my_predictions[j]:0.2f} for movie {movieList[j]}')\n",
        "\n",
        "print('\\n\\nOriginal vs Predicted ratings:\\n')\n",
        "for i in range(len(my_ratings)):\n",
        "    if my_ratings[i] > 0:\n",
        "        print(f'Original {my_ratings[i]}, Predicted {my_predictions[i]:0.2f} for {movieList[i]}')"
      ]
    },
    {
      "cell_type": "markdown",
      "metadata": {
        "id": "nca3SsPw-hhJ"
      },
      "source": [
        "In practice, additional information can be utilized to enhance our predictions. Above, the predicted ratings for the first few hundred movies lie in a small range. We can augment the above by selecting from those top movies, movies that have high average ratings and movies with more than 20 ratings. This section uses a [Pandas](https://pandas.pydata.org/) data frame which has many handy sorting features."
      ]
    },
    {
      "cell_type": "code",
      "execution_count": 24,
      "metadata": {
        "deletable": false,
        "editable": false,
        "id": "Y8rbMy36-hhJ",
        "outputId": "f3763e85-6af7-410c-d4a6-0d34f0bdb90a",
        "colab": {
          "base_uri": "https://localhost:8080/",
          "height": 707
        }
      },
      "outputs": [
        {
          "output_type": "execute_result",
          "data": {
            "text/plain": [
              "          pred  mean rating  number of ratings  \\\n",
              "2112  4.111563     4.238255                149   \n",
              "155   4.044489     4.155914                 93   \n",
              "211   4.062224     4.122642                159   \n",
              "929   4.871570     4.118919                185   \n",
              "2700  4.769048     4.109091                 55   \n",
              "393   4.171463     4.106061                198   \n",
              "653   4.277921     4.021277                188   \n",
              "2804  4.180679     3.989362                 47   \n",
              "773   4.296427     3.960993                141   \n",
              "2649  4.190232     3.943396                 53   \n",
              "2455  4.029778     3.887931                 58   \n",
              "361   4.210287     3.871212                132   \n",
              "246   4.894499     3.867647                170   \n",
              "2403  4.013156     3.864407                 59   \n",
              "1930  4.081150     3.862069                 58   \n",
              "1150  4.890822     3.836000                125   \n",
              "1521  4.004101     3.816901                 71   \n",
              "1081  4.088455     3.803797                 79   \n",
              "793   4.851207     3.778523                149   \n",
              "366   4.856792     3.761682                107   \n",
              "622   4.847810     3.598039                102   \n",
              "\n",
              "                                                  title  \n",
              "2112                            Dark Knight, The (2008)  \n",
              "155                                       Snatch (2000)  \n",
              "211                                      Memento (2000)  \n",
              "929   Lord of the Rings: The Return of the King, The...  \n",
              "2700                                 Toy Story 3 (2010)  \n",
              "393   Lord of the Rings: The Fellowship of the Ring,...  \n",
              "653       Lord of the Rings: The Two Towers, The (2002)  \n",
              "2804  Harry Potter and the Deathly Hallows: Part 1 (...  \n",
              "773                                 Finding Nemo (2003)  \n",
              "2649                    How to Train Your Dragon (2010)  \n",
              "2455      Harry Potter and the Half-Blood Prince (2009)  \n",
              "361                               Monsters, Inc. (2001)  \n",
              "246                                        Shrek (2001)  \n",
              "2403                                   Star Trek (2009)  \n",
              "1930   Harry Potter and the Order of the Phoenix (2007)  \n",
              "1150                            Incredibles, The (2004)  \n",
              "1521         Harry Potter and the Goblet of Fire (2005)  \n",
              "1081                                Spider-Man 2 (2004)  \n",
              "793   Pirates of the Caribbean: The Curse of the Bla...  \n",
              "366   Harry Potter and the Sorcerer's Stone (a.k.a. ...  \n",
              "622      Harry Potter and the Chamber of Secrets (2002)  "
            ],
            "text/html": [
              "\n",
              "  <div id=\"df-c21dc9cf-65b2-4d29-951b-ffae9660924e\" class=\"colab-df-container\">\n",
              "    <div>\n",
              "<style scoped>\n",
              "    .dataframe tbody tr th:only-of-type {\n",
              "        vertical-align: middle;\n",
              "    }\n",
              "\n",
              "    .dataframe tbody tr th {\n",
              "        vertical-align: top;\n",
              "    }\n",
              "\n",
              "    .dataframe thead th {\n",
              "        text-align: right;\n",
              "    }\n",
              "</style>\n",
              "<table border=\"1\" class=\"dataframe\">\n",
              "  <thead>\n",
              "    <tr style=\"text-align: right;\">\n",
              "      <th></th>\n",
              "      <th>pred</th>\n",
              "      <th>mean rating</th>\n",
              "      <th>number of ratings</th>\n",
              "      <th>title</th>\n",
              "    </tr>\n",
              "  </thead>\n",
              "  <tbody>\n",
              "    <tr>\n",
              "      <th>2112</th>\n",
              "      <td>4.111563</td>\n",
              "      <td>4.238255</td>\n",
              "      <td>149</td>\n",
              "      <td>Dark Knight, The (2008)</td>\n",
              "    </tr>\n",
              "    <tr>\n",
              "      <th>155</th>\n",
              "      <td>4.044489</td>\n",
              "      <td>4.155914</td>\n",
              "      <td>93</td>\n",
              "      <td>Snatch (2000)</td>\n",
              "    </tr>\n",
              "    <tr>\n",
              "      <th>211</th>\n",
              "      <td>4.062224</td>\n",
              "      <td>4.122642</td>\n",
              "      <td>159</td>\n",
              "      <td>Memento (2000)</td>\n",
              "    </tr>\n",
              "    <tr>\n",
              "      <th>929</th>\n",
              "      <td>4.871570</td>\n",
              "      <td>4.118919</td>\n",
              "      <td>185</td>\n",
              "      <td>Lord of the Rings: The Return of the King, The...</td>\n",
              "    </tr>\n",
              "    <tr>\n",
              "      <th>2700</th>\n",
              "      <td>4.769048</td>\n",
              "      <td>4.109091</td>\n",
              "      <td>55</td>\n",
              "      <td>Toy Story 3 (2010)</td>\n",
              "    </tr>\n",
              "    <tr>\n",
              "      <th>393</th>\n",
              "      <td>4.171463</td>\n",
              "      <td>4.106061</td>\n",
              "      <td>198</td>\n",
              "      <td>Lord of the Rings: The Fellowship of the Ring,...</td>\n",
              "    </tr>\n",
              "    <tr>\n",
              "      <th>653</th>\n",
              "      <td>4.277921</td>\n",
              "      <td>4.021277</td>\n",
              "      <td>188</td>\n",
              "      <td>Lord of the Rings: The Two Towers, The (2002)</td>\n",
              "    </tr>\n",
              "    <tr>\n",
              "      <th>2804</th>\n",
              "      <td>4.180679</td>\n",
              "      <td>3.989362</td>\n",
              "      <td>47</td>\n",
              "      <td>Harry Potter and the Deathly Hallows: Part 1 (...</td>\n",
              "    </tr>\n",
              "    <tr>\n",
              "      <th>773</th>\n",
              "      <td>4.296427</td>\n",
              "      <td>3.960993</td>\n",
              "      <td>141</td>\n",
              "      <td>Finding Nemo (2003)</td>\n",
              "    </tr>\n",
              "    <tr>\n",
              "      <th>2649</th>\n",
              "      <td>4.190232</td>\n",
              "      <td>3.943396</td>\n",
              "      <td>53</td>\n",
              "      <td>How to Train Your Dragon (2010)</td>\n",
              "    </tr>\n",
              "    <tr>\n",
              "      <th>2455</th>\n",
              "      <td>4.029778</td>\n",
              "      <td>3.887931</td>\n",
              "      <td>58</td>\n",
              "      <td>Harry Potter and the Half-Blood Prince (2009)</td>\n",
              "    </tr>\n",
              "    <tr>\n",
              "      <th>361</th>\n",
              "      <td>4.210287</td>\n",
              "      <td>3.871212</td>\n",
              "      <td>132</td>\n",
              "      <td>Monsters, Inc. (2001)</td>\n",
              "    </tr>\n",
              "    <tr>\n",
              "      <th>246</th>\n",
              "      <td>4.894499</td>\n",
              "      <td>3.867647</td>\n",
              "      <td>170</td>\n",
              "      <td>Shrek (2001)</td>\n",
              "    </tr>\n",
              "    <tr>\n",
              "      <th>2403</th>\n",
              "      <td>4.013156</td>\n",
              "      <td>3.864407</td>\n",
              "      <td>59</td>\n",
              "      <td>Star Trek (2009)</td>\n",
              "    </tr>\n",
              "    <tr>\n",
              "      <th>1930</th>\n",
              "      <td>4.081150</td>\n",
              "      <td>3.862069</td>\n",
              "      <td>58</td>\n",
              "      <td>Harry Potter and the Order of the Phoenix (2007)</td>\n",
              "    </tr>\n",
              "    <tr>\n",
              "      <th>1150</th>\n",
              "      <td>4.890822</td>\n",
              "      <td>3.836000</td>\n",
              "      <td>125</td>\n",
              "      <td>Incredibles, The (2004)</td>\n",
              "    </tr>\n",
              "    <tr>\n",
              "      <th>1521</th>\n",
              "      <td>4.004101</td>\n",
              "      <td>3.816901</td>\n",
              "      <td>71</td>\n",
              "      <td>Harry Potter and the Goblet of Fire (2005)</td>\n",
              "    </tr>\n",
              "    <tr>\n",
              "      <th>1081</th>\n",
              "      <td>4.088455</td>\n",
              "      <td>3.803797</td>\n",
              "      <td>79</td>\n",
              "      <td>Spider-Man 2 (2004)</td>\n",
              "    </tr>\n",
              "    <tr>\n",
              "      <th>793</th>\n",
              "      <td>4.851207</td>\n",
              "      <td>3.778523</td>\n",
              "      <td>149</td>\n",
              "      <td>Pirates of the Caribbean: The Curse of the Bla...</td>\n",
              "    </tr>\n",
              "    <tr>\n",
              "      <th>366</th>\n",
              "      <td>4.856792</td>\n",
              "      <td>3.761682</td>\n",
              "      <td>107</td>\n",
              "      <td>Harry Potter and the Sorcerer's Stone (a.k.a. ...</td>\n",
              "    </tr>\n",
              "    <tr>\n",
              "      <th>622</th>\n",
              "      <td>4.847810</td>\n",
              "      <td>3.598039</td>\n",
              "      <td>102</td>\n",
              "      <td>Harry Potter and the Chamber of Secrets (2002)</td>\n",
              "    </tr>\n",
              "  </tbody>\n",
              "</table>\n",
              "</div>\n",
              "    <div class=\"colab-df-buttons\">\n",
              "\n",
              "  <div class=\"colab-df-container\">\n",
              "    <button class=\"colab-df-convert\" onclick=\"convertToInteractive('df-c21dc9cf-65b2-4d29-951b-ffae9660924e')\"\n",
              "            title=\"Convert this dataframe to an interactive table.\"\n",
              "            style=\"display:none;\">\n",
              "\n",
              "  <svg xmlns=\"http://www.w3.org/2000/svg\" height=\"24px\" viewBox=\"0 -960 960 960\">\n",
              "    <path d=\"M120-120v-720h720v720H120Zm60-500h600v-160H180v160Zm220 220h160v-160H400v160Zm0 220h160v-160H400v160ZM180-400h160v-160H180v160Zm440 0h160v-160H620v160ZM180-180h160v-160H180v160Zm440 0h160v-160H620v160Z\"/>\n",
              "  </svg>\n",
              "    </button>\n",
              "\n",
              "  <style>\n",
              "    .colab-df-container {\n",
              "      display:flex;\n",
              "      gap: 12px;\n",
              "    }\n",
              "\n",
              "    .colab-df-convert {\n",
              "      background-color: #E8F0FE;\n",
              "      border: none;\n",
              "      border-radius: 50%;\n",
              "      cursor: pointer;\n",
              "      display: none;\n",
              "      fill: #1967D2;\n",
              "      height: 32px;\n",
              "      padding: 0 0 0 0;\n",
              "      width: 32px;\n",
              "    }\n",
              "\n",
              "    .colab-df-convert:hover {\n",
              "      background-color: #E2EBFA;\n",
              "      box-shadow: 0px 1px 2px rgba(60, 64, 67, 0.3), 0px 1px 3px 1px rgba(60, 64, 67, 0.15);\n",
              "      fill: #174EA6;\n",
              "    }\n",
              "\n",
              "    .colab-df-buttons div {\n",
              "      margin-bottom: 4px;\n",
              "    }\n",
              "\n",
              "    [theme=dark] .colab-df-convert {\n",
              "      background-color: #3B4455;\n",
              "      fill: #D2E3FC;\n",
              "    }\n",
              "\n",
              "    [theme=dark] .colab-df-convert:hover {\n",
              "      background-color: #434B5C;\n",
              "      box-shadow: 0px 1px 3px 1px rgba(0, 0, 0, 0.15);\n",
              "      filter: drop-shadow(0px 1px 2px rgba(0, 0, 0, 0.3));\n",
              "      fill: #FFFFFF;\n",
              "    }\n",
              "  </style>\n",
              "\n",
              "    <script>\n",
              "      const buttonEl =\n",
              "        document.querySelector('#df-c21dc9cf-65b2-4d29-951b-ffae9660924e button.colab-df-convert');\n",
              "      buttonEl.style.display =\n",
              "        google.colab.kernel.accessAllowed ? 'block' : 'none';\n",
              "\n",
              "      async function convertToInteractive(key) {\n",
              "        const element = document.querySelector('#df-c21dc9cf-65b2-4d29-951b-ffae9660924e');\n",
              "        const dataTable =\n",
              "          await google.colab.kernel.invokeFunction('convertToInteractive',\n",
              "                                                    [key], {});\n",
              "        if (!dataTable) return;\n",
              "\n",
              "        const docLinkHtml = 'Like what you see? Visit the ' +\n",
              "          '<a target=\"_blank\" href=https://colab.research.google.com/notebooks/data_table.ipynb>data table notebook</a>'\n",
              "          + ' to learn more about interactive tables.';\n",
              "        element.innerHTML = '';\n",
              "        dataTable['output_type'] = 'display_data';\n",
              "        await google.colab.output.renderOutput(dataTable, element);\n",
              "        const docLink = document.createElement('div');\n",
              "        docLink.innerHTML = docLinkHtml;\n",
              "        element.appendChild(docLink);\n",
              "      }\n",
              "    </script>\n",
              "  </div>\n",
              "\n",
              "\n",
              "<div id=\"df-46e840f9-cfe1-448f-a871-fee44a4347e5\">\n",
              "  <button class=\"colab-df-quickchart\" onclick=\"quickchart('df-46e840f9-cfe1-448f-a871-fee44a4347e5')\"\n",
              "            title=\"Suggest charts\"\n",
              "            style=\"display:none;\">\n",
              "\n",
              "<svg xmlns=\"http://www.w3.org/2000/svg\" height=\"24px\"viewBox=\"0 0 24 24\"\n",
              "     width=\"24px\">\n",
              "    <g>\n",
              "        <path d=\"M19 3H5c-1.1 0-2 .9-2 2v14c0 1.1.9 2 2 2h14c1.1 0 2-.9 2-2V5c0-1.1-.9-2-2-2zM9 17H7v-7h2v7zm4 0h-2V7h2v10zm4 0h-2v-4h2v4z\"/>\n",
              "    </g>\n",
              "</svg>\n",
              "  </button>\n",
              "\n",
              "<style>\n",
              "  .colab-df-quickchart {\n",
              "      --bg-color: #E8F0FE;\n",
              "      --fill-color: #1967D2;\n",
              "      --hover-bg-color: #E2EBFA;\n",
              "      --hover-fill-color: #174EA6;\n",
              "      --disabled-fill-color: #AAA;\n",
              "      --disabled-bg-color: #DDD;\n",
              "  }\n",
              "\n",
              "  [theme=dark] .colab-df-quickchart {\n",
              "      --bg-color: #3B4455;\n",
              "      --fill-color: #D2E3FC;\n",
              "      --hover-bg-color: #434B5C;\n",
              "      --hover-fill-color: #FFFFFF;\n",
              "      --disabled-bg-color: #3B4455;\n",
              "      --disabled-fill-color: #666;\n",
              "  }\n",
              "\n",
              "  .colab-df-quickchart {\n",
              "    background-color: var(--bg-color);\n",
              "    border: none;\n",
              "    border-radius: 50%;\n",
              "    cursor: pointer;\n",
              "    display: none;\n",
              "    fill: var(--fill-color);\n",
              "    height: 32px;\n",
              "    padding: 0;\n",
              "    width: 32px;\n",
              "  }\n",
              "\n",
              "  .colab-df-quickchart:hover {\n",
              "    background-color: var(--hover-bg-color);\n",
              "    box-shadow: 0 1px 2px rgba(60, 64, 67, 0.3), 0 1px 3px 1px rgba(60, 64, 67, 0.15);\n",
              "    fill: var(--button-hover-fill-color);\n",
              "  }\n",
              "\n",
              "  .colab-df-quickchart-complete:disabled,\n",
              "  .colab-df-quickchart-complete:disabled:hover {\n",
              "    background-color: var(--disabled-bg-color);\n",
              "    fill: var(--disabled-fill-color);\n",
              "    box-shadow: none;\n",
              "  }\n",
              "\n",
              "  .colab-df-spinner {\n",
              "    border: 2px solid var(--fill-color);\n",
              "    border-color: transparent;\n",
              "    border-bottom-color: var(--fill-color);\n",
              "    animation:\n",
              "      spin 1s steps(1) infinite;\n",
              "  }\n",
              "\n",
              "  @keyframes spin {\n",
              "    0% {\n",
              "      border-color: transparent;\n",
              "      border-bottom-color: var(--fill-color);\n",
              "      border-left-color: var(--fill-color);\n",
              "    }\n",
              "    20% {\n",
              "      border-color: transparent;\n",
              "      border-left-color: var(--fill-color);\n",
              "      border-top-color: var(--fill-color);\n",
              "    }\n",
              "    30% {\n",
              "      border-color: transparent;\n",
              "      border-left-color: var(--fill-color);\n",
              "      border-top-color: var(--fill-color);\n",
              "      border-right-color: var(--fill-color);\n",
              "    }\n",
              "    40% {\n",
              "      border-color: transparent;\n",
              "      border-right-color: var(--fill-color);\n",
              "      border-top-color: var(--fill-color);\n",
              "    }\n",
              "    60% {\n",
              "      border-color: transparent;\n",
              "      border-right-color: var(--fill-color);\n",
              "    }\n",
              "    80% {\n",
              "      border-color: transparent;\n",
              "      border-right-color: var(--fill-color);\n",
              "      border-bottom-color: var(--fill-color);\n",
              "    }\n",
              "    90% {\n",
              "      border-color: transparent;\n",
              "      border-bottom-color: var(--fill-color);\n",
              "    }\n",
              "  }\n",
              "</style>\n",
              "\n",
              "  <script>\n",
              "    async function quickchart(key) {\n",
              "      const quickchartButtonEl =\n",
              "        document.querySelector('#' + key + ' button');\n",
              "      quickchartButtonEl.disabled = true;  // To prevent multiple clicks.\n",
              "      quickchartButtonEl.classList.add('colab-df-spinner');\n",
              "      try {\n",
              "        const charts = await google.colab.kernel.invokeFunction(\n",
              "            'suggestCharts', [key], {});\n",
              "      } catch (error) {\n",
              "        console.error('Error during call to suggestCharts:', error);\n",
              "      }\n",
              "      quickchartButtonEl.classList.remove('colab-df-spinner');\n",
              "      quickchartButtonEl.classList.add('colab-df-quickchart-complete');\n",
              "    }\n",
              "    (() => {\n",
              "      let quickchartButtonEl =\n",
              "        document.querySelector('#df-46e840f9-cfe1-448f-a871-fee44a4347e5 button');\n",
              "      quickchartButtonEl.style.display =\n",
              "        google.colab.kernel.accessAllowed ? 'block' : 'none';\n",
              "    })();\n",
              "  </script>\n",
              "</div>\n",
              "\n",
              "    </div>\n",
              "  </div>\n"
            ],
            "application/vnd.google.colaboratory.intrinsic+json": {
              "type": "dataframe",
              "summary": "{\n  \"name\": \"movieList_df\",\n  \"rows\": 21,\n  \"fields\": [\n    {\n      \"column\": \"pred\",\n      \"properties\": {\n        \"dtype\": \"number\",\n        \"std\": 0.36111522174141897,\n        \"min\": 4.004100571915259,\n        \"max\": 4.894499425841914,\n        \"num_unique_values\": 21,\n        \"samples\": [\n          4.111562787265881,\n          4.0884554689784505,\n          4.89082199102892\n        ],\n        \"semantic_type\": \"\",\n        \"description\": \"\"\n      }\n    },\n    {\n      \"column\": \"mean rating\",\n      \"properties\": {\n        \"dtype\": \"number\",\n        \"std\": 0.15974517332734592,\n        \"min\": 3.5980392156862746,\n        \"max\": 4.238255033557047,\n        \"num_unique_values\": 21,\n        \"samples\": [\n          4.238255033557047,\n          3.8037974683544302,\n          3.836\n        ],\n        \"semantic_type\": \"\",\n        \"description\": \"\"\n      }\n    },\n    {\n      \"column\": \"number of ratings\",\n      \"properties\": {\n        \"dtype\": \"number\",\n        \"std\": 50,\n        \"min\": 47,\n        \"max\": 198,\n        \"num_unique_values\": 19,\n        \"samples\": [\n          149,\n          198,\n          132\n        ],\n        \"semantic_type\": \"\",\n        \"description\": \"\"\n      }\n    },\n    {\n      \"column\": \"title\",\n      \"properties\": {\n        \"dtype\": \"string\",\n        \"num_unique_values\": 21,\n        \"samples\": [\n          \"Dark Knight, The (2008)\",\n          \"Spider-Man 2 (2004)\",\n          \"Incredibles, The (2004)\"\n        ],\n        \"semantic_type\": \"\",\n        \"description\": \"\"\n      }\n    }\n  ]\n}"
            }
          },
          "metadata": {},
          "execution_count": 24
        }
      ],
      "source": [
        "filter=(movieList_df[\"number of ratings\"] > 20)\n",
        "movieList_df[\"pred\"] = my_predictions\n",
        "movieList_df = movieList_df.reindex(columns=[\"pred\", \"mean rating\", \"number of ratings\", \"title\"])\n",
        "movieList_df.loc[ix[:300]].loc[filter].sort_values(\"mean rating\", ascending=False)"
      ]
    },
    {
      "cell_type": "markdown",
      "metadata": {
        "id": "_5s_tqBJ-hhJ"
      },
      "source": [
        "<a name=\"7\"></a>\n",
        "## 7 - Congratulations! <img align=\"left\" src=\"https://drive.google.com/uc?export=view&id=1tCga7PhG7xcDeDdlxKJOYCaia_MawWTJ\" width=\"40px;\">\n",
        "You have implemented a useful recommender system!"
      ]
    },
    {
      "cell_type": "markdown",
      "metadata": {
        "id": "WV7htsgj-hhJ"
      },
      "source": [
        "<details>\n",
        "  <summary><font size=\"2\" color=\"darkgreen\"><b>Please click here if you want to experiment with any of the non-graded code.</b></font></summary>\n",
        "    <p><i><b>Important Note: Please only do this when you've already passed the assignment to avoid problems with the autograder.</b></i>\n",
        "    <ol>\n",
        "        <li> On the notebook’s menu, click “View” > “Cell Toolbar” > “Edit Metadata”</li>\n",
        "        <li> Hit the “Edit Metadata” button next to the code cell which you want to lock/unlock</li>\n",
        "        <li> Set the attribute value for “editable” to:\n",
        "            <ul>\n",
        "                <li> “true” if you want to unlock it </li>\n",
        "                <li> “false” if you want to lock it </li>\n",
        "            </ul>\n",
        "        </li>\n",
        "        <li> On the notebook’s menu, click “View” > “Cell Toolbar” > “None” </li>\n",
        "    </ol>\n",
        "    <p> Here's a short demo of how to do the steps above:\n",
        "        <br>\n",
        "        <img src=\"https://drive.google.com/uc?export=view&id=14Xy_Mb17CZVgzVAgq7NCjMVBvSae3xO1\" align=\"center\" alt=\"unlock_cells.gif\">\n",
        "</details>"
      ]
    }
  ],
  "metadata": {
    "kernelspec": {
      "display_name": "Python 3",
      "language": "python",
      "name": "python3"
    },
    "language_info": {
      "codemirror_mode": {
        "name": "ipython",
        "version": 3
      },
      "file_extension": ".py",
      "mimetype": "text/x-python",
      "name": "python",
      "nbconvert_exporter": "python",
      "pygments_lexer": "ipython3",
      "version": "3.7.6"
    },
    "colab": {
      "provenance": [],
      "collapsed_sections": [
        "ilaeM8yWodYR"
      ]
    }
  },
  "nbformat": 4,
  "nbformat_minor": 0
}